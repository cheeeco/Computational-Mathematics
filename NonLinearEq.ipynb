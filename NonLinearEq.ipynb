{
 "cells": [
  {
   "cell_type": "markdown",
   "metadata": {},
   "source": [
    "ВАРИАНТ 3.4"
   ]
  },
  {
   "cell_type": "markdown",
   "metadata": {},
   "source": [
    "Необходимые функции:"
   ]
  },
  {
   "cell_type": "code",
   "execution_count": 2,
   "metadata": {},
   "outputs": [],
   "source": [
    "import numpy as np\n",
    "\n",
    "#возвращает максимально возможное число корней по теореме Декарта\n",
    "def Descartes(a:list):\n",
    "    coefs = [i for i in a if i != 0]\n",
    "    sign_changes = 0\n",
    "    for i, c in enumerate(a[1:], start=1):\n",
    "        if np.sign(c) != np.sign(a[i-1]):\n",
    "            sign_changes += 1\n",
    "    return sign_changes        \n",
    "\n",
    "\n",
    "#возвращает число корней на отрезке [left, right]\n",
    "def Sturm(a:np.ndarray, left, right):\n",
    "    sequence = []    #ряд Штурма\n",
    "    sequence.append(a)\n",
    "    sequence.append(np.polyder(a))\n",
    "    for i in range(2, len(a)):\n",
    "        sequence.append(np.polymul(np.polydiv(sequence[i-2], sequence[i-1])[1], -1))\n",
    "    \n",
    "    #значения ряда Штурма на концах отрезка \n",
    "    seq_left = [np.polyval(i, left) for i in sequence]\n",
    "    seq_right = [np.polyval(i, right) for i in sequence]\n",
    "    \n",
    "    seq_left = [i for i in seq_left if i != 0]\n",
    "    seq_right = [i for i in seq_right if i != 0]\n",
    "\n",
    "    sign_changes_left = 0\n",
    "    for i, c in enumerate(seq_left[1:], start=1):\n",
    "        if np.sign(c) != np.sign(seq_left[i-1]):\n",
    "            sign_changes_left += 1\n",
    "            \n",
    "    sign_changes_right = 0\n",
    "    for i, c in enumerate(seq_right[1:], start=1):\n",
    "        if np.sign(c) != np.sign(seq_right[i-1]):\n",
    "            sign_changes_right += 1\n",
    "            \n",
    "    return sign_changes_left - sign_changes_right\n",
    "\n",
    "\n",
    "#возвращает список отрезков локализации\n",
    "def bisection(a:np.ndarray, left, right):\n",
    "    n = Sturm(a, left, right)\n",
    "    if n == 0:\n",
    "        return []\n",
    "    if n == 1:\n",
    "        return [(left, right)]\n",
    "    if n >= 2:\n",
    "        mid = (left + right)/2\n",
    "        return bisection(a, left, mid) + bisection(a, mid, right)\n",
    "    "
   ]
  },
  {
   "cell_type": "markdown",
   "metadata": {},
   "source": [
    "Входные данные:"
   ]
  },
  {
   "cell_type": "code",
   "execution_count": 3,
   "metadata": {},
   "outputs": [],
   "source": [
    "gamma0 = 3\n",
    "r0 = 100\n",
    "u0 = -4.677611e5\n",
    "p0 = 0\n",
    "c0 = 1.972e5\n",
    "\n",
    "gamma3 = 3\n",
    "r3 = 21.80089\n",
    "u3 = 0\n",
    "p3 = 5.176613e12\n",
    "c3 = 1.972e5\n",
    "\n",
    "#вспомогательные параметры h, alpha:\n",
    "h0 = (gamma0 + 1)/(gamma0 - 1)\n",
    "h3 = (gamma3 + 1)/(gamma3 - 1)\n",
    "alpha0 = r0*c0**2*(h0 - 1)\n",
    "alpha3 = r3*c3**2*(h3 - 1)"
   ]
  },
  {
   "cell_type": "markdown",
   "metadata": {},
   "source": [
    "Подсчет коэффициентов алгебраического уравнения:"
   ]
  },
  {
   "cell_type": "code",
   "execution_count": 4,
   "metadata": {},
   "outputs": [],
   "source": [
    "#промежуточные параметры v, x, beta0, beta3, delta0, delta3, e:\n",
    "v = u0 - u3\n",
    "x = p3/(r0*r3*v**2)\n",
    "beta0 = alpha0/(r0*r3*v**2)\n",
    "beta3 = alpha3/(r0*r3*v**2)\n",
    "delta0 = (h0 - 1)*r3\n",
    "delta3 = (h3 - 1)*r0\n",
    "e = p0/(r0*r3*v**2)\n",
    "\n",
    "a = [0] * 7\n",
    "a[0] = (delta0*h3 - delta3*h0)**2\n",
    "a[1] = 2*(h3*delta0**2*(beta3 - h3*e) + h0*delta3**2*(beta0 - x*h0) - h0*h3*(delta0*h3 + delta3*h0) - delta0*delta3*(h0*beta3 + h3*beta0) + delta0*delta3*h0*h3*(x + e))\n",
    "a[2] = h0**2*h3**2 + delta0**2*(h3**2*e**2 + beta3**2 - 4*beta3*h3*e) + delta3**2*(beta0**2 + h0**2*x**2 - 4*beta0*x*h0) - 2*delta0*h3*(2*beta3*h0 + h3*beta0 - e*h0*h3) - 2*delta3*h0*(2*beta0*h3 + h0*beta3 - h0*h3*x) - 2*delta0*delta3*(x*e*h0*h3 + beta0*beta3) + 2*delta0*delta3*(x + e)*(beta3*h0 + h3*beta0)\n",
    "a[3] = 2*(h0*h3*(beta0*h3 + beta3*h0) + delta0**2*e*beta3*(h3*e - beta3) + (x*h0 - beta0)*delta3**2*beta0*x - delta0*(h0*beta3**2 - e*beta0*h3**2) - 2*delta0*h3*beta3*(beta0 - e*h0) - delta3*(h3*beta0**2 - x*beta3*h0**2) - 2*delta3*beta0*h0*(beta3 - x*h3) - e*delta0*delta3*x*(h0*beta3 + h3*beta0) + delta0*delta3*beta0*beta3*(x + e))\n",
    "a[4] = beta0**2*h3**2 + beta3**2*h0**2 + 4*beta0*beta3*h0*h3 + delta0**2*beta3**2*e**2 + delta3**2*beta0**2*x**2 - 2*delta0*(beta0*beta3**2 - e*beta3**2*h0 - 2*e*h3*beta0*beta3) - 2*delta3*beta0*(beta0*(beta3 - x*h3) - 2*beta3*x*h0) - 2*e*delta0*delta3*beta0*beta3*x\n",
    "a[5] = 2*(beta0*beta3*(beta0*h3 + beta3*h0) + beta0*beta3*(delta0*e*beta3 + delta3*x*beta0))\n",
    "a[6] = beta0**2*beta3**2\n",
    "\n",
    "#дальше будем работать с numpy.ndarray вместо списка list\n",
    "a = np.array(a)"
   ]
  },
  {
   "cell_type": "markdown",
   "metadata": {},
   "source": [
    "Локализация корней:"
   ]
  },
  {
   "cell_type": "markdown",
   "metadata": {},
   "source": [
    "1. Кольцо корней:"
   ]
  },
  {
   "cell_type": "code",
   "execution_count": 5,
   "metadata": {},
   "outputs": [
    {
     "name": "stdout",
     "output_type": "stream",
     "text": [
      "8.583223249470204e-15 1.097498026679439\n"
     ]
    }
   ],
   "source": [
    "#кольцо\n",
    "A = max(abs(i) for i in a[1:6])\n",
    "B = max(abs(i) for i in a[0:5])\n",
    "left = abs(a[6])/(abs(a[6]) + B)\n",
    "right = 1 + A/abs(a[0])\n",
    "print(left, right)"
   ]
  },
  {
   "cell_type": "markdown",
   "metadata": {},
   "source": [
    "2. Теорема Декарта:"
   ]
  },
  {
   "cell_type": "code",
   "execution_count": 6,
   "metadata": {},
   "outputs": [
    {
     "name": "stdout",
     "output_type": "stream",
     "text": [
      "2\n"
     ]
    }
   ],
   "source": [
    "print(Descartes(a))"
   ]
  },
  {
   "cell_type": "markdown",
   "metadata": {},
   "source": [
    "3. Теорема Штурма:"
   ]
  },
  {
   "cell_type": "code",
   "execution_count": 7,
   "metadata": {},
   "outputs": [
    {
     "name": "stdout",
     "output_type": "stream",
     "text": [
      "2\n"
     ]
    }
   ],
   "source": [
    "print(Sturm(a, left, right))"
   ]
  },
  {
   "cell_type": "markdown",
   "metadata": {},
   "source": [
    "4. Локализация отрезков методом половинного деления:"
   ]
  },
  {
   "cell_type": "code",
   "execution_count": 8,
   "metadata": {
    "scrolled": false
   },
   "outputs": [
    {
     "name": "stdout",
     "output_type": "stream",
     "text": [
      "[(8.583223249470204e-15, 0.06859362666747298), (0.06859362666747298, 0.1371872533349374)]\n"
     ]
    }
   ],
   "source": [
    "sections = bisection(a, left, right)\n",
    "print(sections)"
   ]
  },
  {
   "cell_type": "markdown",
   "metadata": {},
   "source": [
    "Поиск корня с заданной точностью:"
   ]
  },
  {
   "cell_type": "markdown",
   "metadata": {},
   "source": [
    "1. Метод простой итерации:\n",
    "    Для сходимости МПИ при любом начальном приближении требуется строгая ограниченность производной. Будем добиваться выполнения этого условия следующим образом: уменьшаем отрезок локализации до тех пор, пока вторая производная не будет обращаться в ноль на всей области. Тогда первая производная монотонна и имеет максимум в одном из двух концов отрезка локализации."
   ]
  },
  {
   "cell_type": "code",
   "execution_count": 9,
   "metadata": {},
   "outputs": [
    {
     "name": "stdout",
     "output_type": "stream",
     "text": [
      "Производная функции метода простой итерации ограничена числом 0.9998085062532166 , то есть условие сходимости выполнено.\n",
      "Вычислим значение корня y1 с разной точностью:\n",
      "С точностью 1e-04 : 0.018364866044581863\n",
      "С точностью 1e-05 : 0.018309237738945893\n",
      "С точностью 1e-06 : 0.01830361173023717\n"
     ]
    }
   ],
   "source": [
    "#построение итерационного процесса и проверка выполнения условий сходимости\n",
    "n = len(a) - 1\n",
    "fi = np.array(a) #copy\n",
    "fi[n-1] += 1    #коэффициенты функции fi(y) в уравнении y = fi(y)\n",
    "fi_d1 = np.polyder(fi)    #первая производная\n",
    "fi_d2 = np.polyder(fi_d1)    #вторая производная\n",
    "left, right = sections[0]    #выберем отрезок локализации первого корня\n",
    "\n",
    "#локализуем отрезок для выполнения условий сходимости\n",
    "while True and Sturm(fi_d2, left, right):    #сужаем отрезок, пока первая производная не станет монотонной\n",
    "    mid = (left + right)/2\n",
    "    left_val = np.polyval(a, left)\n",
    "    mid_val = np.polyval(a, mid)\n",
    "    right_val = np.polyval(a, right)\n",
    "    if np.sign(left_val*mid_val) == -1:\n",
    "        right = mid\n",
    "    else:\n",
    "        left = mid\n",
    "#проверим, что max(|fi_d1|) = q < 1\n",
    "q = max(abs(np.polyval(fi_d1, left)), abs(np.polyval(fi_d1, right)))\n",
    "print(\"Производная функции метода простой итерации ограничена числом\", q, \", то есть условие сходимости выполнено.\")    #первая производная действительно ограничена числом q < 1\n",
    "\n",
    "#ищем корень до заданной точности\n",
    "print(\"Вычислим значение корня y1 с разной точностью:\")\n",
    "precision1 = 1e-4\n",
    "precision2 = 1e-5\n",
    "precision3 = 1e-6\n",
    "\n",
    "y0 = (left + right)/2    #произвольное начальное приближение\n",
    "y_prev = y0\n",
    "while True:\n",
    "    y = np.polyval(fi, y_prev)\n",
    "    if abs(y - y_prev)/(1 - q) <= precision1 :\n",
    "        break\n",
    "    y_prev = y\n",
    "print(\"С точностью 1e-04\", \":\", y)\n",
    "\n",
    "y_prev = y0 = y\n",
    "while True:\n",
    "    y = np.polyval(fi, y_prev)\n",
    "    if abs(y - y_prev)/(1 - q) <= precision2 :\n",
    "        break\n",
    "    y_prev = y\n",
    "print(\"С точностью\", precision2, \":\", y)\n",
    "\n",
    "y_prev = y0 = y\n",
    "while True:\n",
    "    y = np.polyval(fi, y_prev)\n",
    "    if abs(y - y_prev)/(1 - q) <= precision3 :\n",
    "        break\n",
    "    y_prev = y\n",
    "print(\"С точностью\", precision3, \":\", y)\n",
    "Y1 = y"
   ]
  },
  {
   "cell_type": "markdown",
   "metadata": {},
   "source": [
    "2. Метод Ньютона:\n",
    "\n",
    "    С помощью итерационного метода Ньютона найдем значение второго корня - y2. "
   ]
  },
  {
   "cell_type": "code",
   "execution_count": 10,
   "metadata": {},
   "outputs": [
    {
     "name": "stdout",
     "output_type": "stream",
     "text": [
      "Выполнение условия для начального приближения f(y0)*f''(y0) > 0 - True\n",
      "С точностью 1e-04 : 0.08846626972065016\n",
      "С точностью 1e-05 : 0.08846626770589816\n",
      "С точностью 1e-06 : 0.08846626770589794\n"
     ]
    }
   ],
   "source": [
    "n = len(a) - 1\n",
    "f = np.array(a)    #copy #коэффициенты функции f(y) в уравнении f(y) = 0\n",
    "f_d1 = np.polyder(f)    #первая производная\n",
    "f_d2 = np.polyder(f_d1)    #вторая производная\n",
    "left, right = sections[1]    #отрезок локализации корня y2\n",
    "while True and Sturm(f_d1, left, right) and Sturm(f_d2, left, right):    #сужаем отрезок локализации, пока первая и вторая производные не станут знакопостоянными\n",
    "    mid = (left + right)/2\n",
    "    left_val = np.polyval(f, left)\n",
    "    mid_val = np.polyval(f, mid)\n",
    "    right_val = np.polyval(f, right)\n",
    "    if np.sign(left_val*mid_val) == -1:\n",
    "        right = mid\n",
    "    else:\n",
    "        left = mid\n",
    "\n",
    "#проверим условие сходимости\n",
    "print(\"Выполнение условия для начального приближения f(y0)*f''(y0) > 0 -\", np.sign(np.polyval(f, right)*np.polyval(f_d2, right)) == 1)    #выбираем начальное приближение из условия f(y0)*f''(y0) > 0\n",
    "\n",
    "#ищем корень до заданной точности\n",
    "\n",
    "y0 = right\n",
    "y_prev = y0\n",
    "while True:\n",
    "    y = y_prev - np.polyval(f, y_prev)/np.polyval(f_d1, y_prev)\n",
    "    if abs(y-y_prev) < precision1:\n",
    "        break\n",
    "    y_prev = y\n",
    "print(\"С точностью 1e-04\", \":\", y)\n",
    "\n",
    "y_prev = y0 = y\n",
    "while True:\n",
    "    y = y_prev - np.polyval(f, y_prev)/np.polyval(f_d1, y_prev)\n",
    "    if abs(y-y_prev) < precision2:\n",
    "        break\n",
    "    y_prev = y\n",
    "print(\"С точностью\", precision2, \":\", y) \n",
    "\n",
    "y_prev = y0 = y\n",
    "while True:\n",
    "    y = y_prev - np.polyval(f, y_prev)/np.polyval(f_d1, y_prev)\n",
    "    if abs(y-y_prev) < precision1:\n",
    "        break\n",
    "    y_prev = y\n",
    "print(\"С точностью\", precision3, \":\", y)\n",
    "Y2 = y"
   ]
  },
  {
   "cell_type": "markdown",
   "metadata": {},
   "source": [
    "5. Решение исходной задачи - определим скорости ударных волн D0 и D3:\n"
   ]
  },
  {
   "cell_type": "code",
   "execution_count": 11,
   "metadata": {},
   "outputs": [
    {
     "name": "stdout",
     "output_type": "stream",
     "text": [
      "Y1 = 0.01830361173023717\n"
     ]
    }
   ],
   "source": [
    "print(\"Y1 =\", Y1)"
   ]
  },
  {
   "cell_type": "code",
   "execution_count": 12,
   "metadata": {},
   "outputs": [
    {
     "name": "stdout",
     "output_type": "stream",
     "text": [
      "D0 = -5694.087733316119 см/с;\n",
      "D3 = -584721.6615972444 см/с.\n"
     ]
    }
   ],
   "source": [
    "p1 = p2 = Y1*r0*r3*v**2\n",
    "r1 = r0*(p1*h0 + alpha0)/(p1 + alpha0)\n",
    "r2 = r3*(p2*h3 + alpha3)/(p2 + alpha3)\n",
    "u1 = u0 + np.sqrt((p1 - p0)*(r1 - r0)/(r1*r0))\n",
    "u2 = u3 - np.sqrt((p2 - p3)*(r2 - r3)/(r2*r3))\n",
    "D0 = (r0*u0 - r1*u1)/(r0 - r1)\n",
    "D3 = (r2*u2 - r3*u3)/(r2 - r3)\n",
    "print(\"D0 =\", D0, \"см/с;\")\n",
    "print(\"D3 =\", D3, \"см/с.\")"
   ]
  },
  {
   "cell_type": "code",
   "execution_count": 13,
   "metadata": {},
   "outputs": [
    {
     "name": "stdout",
     "output_type": "stream",
     "text": [
      "Y2 = 0.08846626770589794\n"
     ]
    }
   ],
   "source": [
    "print(\"Y2 =\", Y2)"
   ]
  },
  {
   "cell_type": "code",
   "execution_count": 14,
   "metadata": {},
   "outputs": [
    {
     "name": "stdout",
     "output_type": "stream",
     "text": [
      "D0 = 471847.27697507635 см/с;\n",
      "D3 = -1852163.5812543835 см/с.\n"
     ]
    }
   ],
   "source": [
    "p1 = p2 = Y2*r0*r3*v**2\n",
    "r1 = r0*(p1*h0 + alpha0)/(p1 + alpha0)\n",
    "r2 = r3*(p2*h3 + alpha3)/(p2 + alpha3)\n",
    "u1 = u0 + np.sqrt((p1 - p0)*(r1 - r0)/(r1*r0))\n",
    "u2 = u3 - np.sqrt((p2 - p3)*(r2 - r3)/(r2*r3))\n",
    "D0 = (r0*u0 - r1*u1)/(r0 - r1)\n",
    "D3 = (r2*u2 - r3*u3)/(r2 - r3)\n",
    "print(\"D0 =\", D0, \"см/с;\")\n",
    "print(\"D3 =\", D3, \"см/с.\")"
   ]
  }
 ],
 "metadata": {
  "kernelspec": {
   "display_name": "Python 3",
   "language": "python",
   "name": "python3"
  },
  "language_info": {
   "codemirror_mode": {
    "name": "ipython",
    "version": 3
   },
   "file_extension": ".py",
   "mimetype": "text/x-python",
   "name": "python",
   "nbconvert_exporter": "python",
   "pygments_lexer": "ipython3",
   "version": "3.8.5"
  }
 },
 "nbformat": 4,
 "nbformat_minor": 4
}
